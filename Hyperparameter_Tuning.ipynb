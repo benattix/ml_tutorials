{
 "cells": [
  {
   "cell_type": "markdown",
   "metadata": {},
   "source": [
    "# Overview\n",
    "1. Setup\n",
    "1. Use Case Background\n",
    "1. Hyperparameter (HP) Definition\n",
    "1. Decision Tree Recap\n",
    "1. Data Preparation\n",
    "1. Description of HPs Decision trees (i.e. what the HPs do, how they affect the model, and tradeoffs) \n",
    "1. Build simple decision tree model with no tuning\n",
    "1. Tuning Methods\n",
    "    + Grid Search\n",
    "    + Random Search\n",
    "    + Bayesian Search\n",
    "1. Tuning with Random Forests (Optional)\n",
    "1. Appendix"
   ]
  },
  {
   "cell_type": "markdown",
   "metadata": {},
   "source": [
    "# Setup\n",
    "Perform the following steps:\n",
    "\n",
    "__Mac Users:__\n",
    "- Open terminal\n",
    "    - Change directory: `cd Desktop`\n",
    "    - Clone the repository: `git clone https://github.com/benattix/ml_tutorials.git`\n",
    "    - Change directory: `cd ml_tutorials`\n",
    "    - Create new conda environment with .yml file: `conda env create -f environment_mac.yml`\n",
    "    - Activate new environment `source activate hptuning`\n",
    "    - Launch a Jupyter notebook: `jupyter notebook`\n",
    "\n",
    "__Windows Users:__\n",
    "- Open git bash\n",
    "    - Change directory: `cd Desktop`\n",
    "    - Clone the repository: `git clone https://github.com/benattix/ml_tutorials.git`\n",
    "- Open anaconda prompt\n",
    "    - Change directory: `cd Desktop/ml_tutorials`\n",
    "    - Create new conda environment with .yml file: `conda env create -f environment_windows.yml`\n",
    "    - Activate new environment `conda activate hptuning`\n",
    "    - Launch a Jupyter notebook: `jupyter notebook`"
   ]
  },
  {
   "cell_type": "markdown",
   "metadata": {},
   "source": [
    "# Background\n",
    "We have a data set of beers and certain characteristics about the beer. Our goal is to determine for a given beer, how bitter it will be. Some people really enjoy bitter beers while other people hate them. By predicting how bitter a beer will be we can help people better select beers that match their tastes.\n",
    "\n",
    "The data set contains the following variables:\n",
    "+ abv - Alcohol by volume\n",
    "+ ibu - International Bitterness Units. This is a gauge of beer's bitterness\n",
    "+ id - unique identifier of each beer\n",
    "+ name - name of the beer\n",
    "+ style - style of the beer\n",
    "+ brewery_id - id of the brewery where the beer was made\n",
    "+ ounces - number of fluid ounces that the beer is sold in\n",
    "\n",
    "For our task, we will try to predict the `ibu`, since that is a measure of the bitterness.\n",
    "\n",
    "The dataset comes from [Kaggle](https://www.kaggle.com/nickhould/craft-cans)"
   ]
  },
  {
   "cell_type": "markdown",
   "metadata": {},
   "source": [
    "# Hyperparameter Definition\n",
    "A hyperparameter is a parameter whose value is set before the learning process begins. Parameters, on the other hand, are calculated during training (ex. linear regression coefficients)."
   ]
  },
  {
   "cell_type": "markdown",
   "metadata": {},
   "source": [
    "# Quick Decision Tree Recap\n",
    "\n",
    "In Decision Trees, we start from the root of the tree. We compare the values of the root attribute with the record’s attribute. On the basis of comparison, we follow the branch corresponding to that value and jump to the next node.\n",
    "\n",
    "<img src=\"images/decision_tree.jpg\" width=500>\n",
    "\n",
    "For more detail on how decision trees work, see [Decision Tree Algorithm, Explained](https://www.kdnuggets.com/2020/01/decision-tree-algorithm-explained.html)"
   ]
  },
  {
   "cell_type": "markdown",
   "metadata": {},
   "source": [
    "## Read Data"
   ]
  },
  {
   "cell_type": "code",
   "execution_count": 1,
   "metadata": {},
   "outputs": [],
   "source": [
    "import numpy as np\n",
    "import pandas as pd\n",
    "import scipy.stats as stats\n",
    "\n",
    "import warnings\n",
    "warnings.filterwarnings('ignore')"
   ]
  },
  {
   "cell_type": "code",
   "execution_count": 2,
   "metadata": {},
   "outputs": [],
   "source": [
    "from sklearn.model_selection import train_test_split, cross_val_score\n",
    "from sklearn.feature_extraction.text import CountVectorizer\n",
    "from sklearn.tree import DecisionTreeRegressor"
   ]
  },
  {
   "cell_type": "code",
   "execution_count": 3,
   "metadata": {
    "scrolled": true
   },
   "outputs": [
    {
     "name": "stdout",
     "output_type": "stream",
     "text": [
      "(2410, 7)\n"
     ]
    },
    {
     "data": {
      "text/html": [
       "<div>\n",
       "<style scoped>\n",
       "    .dataframe tbody tr th:only-of-type {\n",
       "        vertical-align: middle;\n",
       "    }\n",
       "\n",
       "    .dataframe tbody tr th {\n",
       "        vertical-align: top;\n",
       "    }\n",
       "\n",
       "    .dataframe thead th {\n",
       "        text-align: right;\n",
       "    }\n",
       "</style>\n",
       "<table border=\"1\" class=\"dataframe\">\n",
       "  <thead>\n",
       "    <tr style=\"text-align: right;\">\n",
       "      <th></th>\n",
       "      <th>abv</th>\n",
       "      <th>ibu</th>\n",
       "      <th>id</th>\n",
       "      <th>name</th>\n",
       "      <th>style</th>\n",
       "      <th>brewery_id</th>\n",
       "      <th>ounces</th>\n",
       "    </tr>\n",
       "  </thead>\n",
       "  <tbody>\n",
       "    <tr>\n",
       "      <th>0</th>\n",
       "      <td>0.050</td>\n",
       "      <td>NaN</td>\n",
       "      <td>1436</td>\n",
       "      <td>Pub Beer</td>\n",
       "      <td>American Pale Lager</td>\n",
       "      <td>408</td>\n",
       "      <td>12.0</td>\n",
       "    </tr>\n",
       "    <tr>\n",
       "      <th>1</th>\n",
       "      <td>0.066</td>\n",
       "      <td>NaN</td>\n",
       "      <td>2265</td>\n",
       "      <td>Devil's Cup</td>\n",
       "      <td>American Pale Ale (APA)</td>\n",
       "      <td>177</td>\n",
       "      <td>12.0</td>\n",
       "    </tr>\n",
       "    <tr>\n",
       "      <th>2</th>\n",
       "      <td>0.071</td>\n",
       "      <td>NaN</td>\n",
       "      <td>2264</td>\n",
       "      <td>Rise of the Phoenix</td>\n",
       "      <td>American IPA</td>\n",
       "      <td>177</td>\n",
       "      <td>12.0</td>\n",
       "    </tr>\n",
       "  </tbody>\n",
       "</table>\n",
       "</div>"
      ],
      "text/plain": [
       "     abv  ibu    id                 name                    style  brewery_id  \\\n",
       "0  0.050  NaN  1436             Pub Beer      American Pale Lager         408   \n",
       "1  0.066  NaN  2265          Devil's Cup  American Pale Ale (APA)         177   \n",
       "2  0.071  NaN  2264  Rise of the Phoenix             American IPA         177   \n",
       "\n",
       "   ounces  \n",
       "0    12.0  \n",
       "1    12.0  \n",
       "2    12.0  "
      ]
     },
     "execution_count": 3,
     "metadata": {},
     "output_type": "execute_result"
    }
   ],
   "source": [
    "df = pd.read_csv('data/beers.csv', index_col=0)\n",
    "print(df.shape)\n",
    "df.head(3)"
   ]
  },
  {
   "cell_type": "markdown",
   "metadata": {},
   "source": [
    "We can see that there are some null values. Let's check for nulls across each column."
   ]
  },
  {
   "cell_type": "code",
   "execution_count": 4,
   "metadata": {},
   "outputs": [
    {
     "data": {
      "text/plain": [
       "abv             62\n",
       "ibu           1005\n",
       "id               0\n",
       "name             0\n",
       "style            5\n",
       "brewery_id       0\n",
       "ounces           0\n",
       "dtype: int64"
      ]
     },
     "execution_count": 4,
     "metadata": {},
     "output_type": "execute_result"
    }
   ],
   "source": [
    "df.isna().sum()"
   ]
  },
  {
   "cell_type": "markdown",
   "metadata": {},
   "source": [
    "## Preprocessing\n",
    "\n",
    "Since we are trying to predict `ibu`, we will drop any rows where it is null. We cannot measure our accuracy if we do not know the true value that we're trying to predict."
   ]
  },
  {
   "cell_type": "code",
   "execution_count": 5,
   "metadata": {},
   "outputs": [
    {
     "data": {
      "text/plain": [
       "(1405, 7)"
      ]
     },
     "execution_count": 5,
     "metadata": {},
     "output_type": "execute_result"
    }
   ],
   "source": [
    "# drop rows with null 'ibu'\n",
    "df = df.dropna(subset=['ibu'], axis=0)\n",
    "df.sort_values(by='id', inplace=True)\n",
    "df.reset_index(drop=True, inplace=True)\n",
    "df.shape"
   ]
  },
  {
   "cell_type": "markdown",
   "metadata": {},
   "source": [
    "For the other columns with missing values, we will fill them. Since `abv` is continuous, we will fill with the median and since `style` is categorical, we will create a new category which denotes that we do not know the style."
   ]
  },
  {
   "cell_type": "code",
   "execution_count": 6,
   "metadata": {},
   "outputs": [],
   "source": [
    "df['abv'].fillna(df.abv.median(), inplace=True)\n",
    "df['style'].fillna('NA', inplace=True)"
   ]
  },
  {
   "cell_type": "code",
   "execution_count": 7,
   "metadata": {},
   "outputs": [
    {
     "data": {
      "text/html": [
       "<div>\n",
       "<style scoped>\n",
       "    .dataframe tbody tr th:only-of-type {\n",
       "        vertical-align: middle;\n",
       "    }\n",
       "\n",
       "    .dataframe tbody tr th {\n",
       "        vertical-align: top;\n",
       "    }\n",
       "\n",
       "    .dataframe thead th {\n",
       "        text-align: right;\n",
       "    }\n",
       "</style>\n",
       "<table border=\"1\" class=\"dataframe\">\n",
       "  <thead>\n",
       "    <tr style=\"text-align: right;\">\n",
       "      <th></th>\n",
       "      <th>abv</th>\n",
       "      <th>ibu</th>\n",
       "      <th>name</th>\n",
       "      <th>style</th>\n",
       "      <th>ounces</th>\n",
       "    </tr>\n",
       "  </thead>\n",
       "  <tbody>\n",
       "    <tr>\n",
       "      <th>0</th>\n",
       "      <td>0.065</td>\n",
       "      <td>65.0</td>\n",
       "      <td>Dale's Pale Ale</td>\n",
       "      <td>American Pale Ale (APA)</td>\n",
       "      <td>12.0</td>\n",
       "    </tr>\n",
       "    <tr>\n",
       "      <th>1</th>\n",
       "      <td>0.087</td>\n",
       "      <td>85.0</td>\n",
       "      <td>Gordon Ale (2009)</td>\n",
       "      <td>American Double / Imperial IPA</td>\n",
       "      <td>12.0</td>\n",
       "    </tr>\n",
       "    <tr>\n",
       "      <th>2</th>\n",
       "      <td>0.080</td>\n",
       "      <td>35.0</td>\n",
       "      <td>Old Chub</td>\n",
       "      <td>Scottish Ale</td>\n",
       "      <td>12.0</td>\n",
       "    </tr>\n",
       "  </tbody>\n",
       "</table>\n",
       "</div>"
      ],
      "text/plain": [
       "     abv   ibu               name                           style  ounces\n",
       "0  0.065  65.0    Dale's Pale Ale         American Pale Ale (APA)    12.0\n",
       "1  0.087  85.0  Gordon Ale (2009)  American Double / Imperial IPA    12.0\n",
       "2  0.080  35.0           Old Chub                    Scottish Ale    12.0"
      ]
     },
     "execution_count": 7,
     "metadata": {},
     "output_type": "execute_result"
    }
   ],
   "source": [
    "# drop id columns\n",
    "df.drop(['id', 'brewery_id'], axis=1, inplace=True)\n",
    "df.head(3)"
   ]
  },
  {
   "cell_type": "markdown",
   "metadata": {},
   "source": [
    "Next, we need to handle our categorical variables (name and style). To do this, let's use sci-kit learn's CountVectorizer, which converts a collection of text to a matrix of token (aka word) counts. In other words, it will create a new column for each individual token, and count how many times each token appeared in each row."
   ]
  },
  {
   "cell_type": "code",
   "execution_count": 14,
   "metadata": {},
   "outputs": [],
   "source": [
    "vectorizer = CountVectorizer(min_df=5, binary=True)\n",
    "vec_matrix = vectorizer.fit_transform(df['name'])\n",
    "df_name = pd.DataFrame(vec_matrix.todense(), columns=['name_' + i for i in vectorizer.get_feature_names()])\n",
    "\n",
    "vec2 = CountVectorizer(min_df=5, binary=True) \n",
    "vec2_matrix = vec2.fit_transform(df['style'])\n",
    "df_style = pd.DataFrame(vec2_matrix.todense(), columns=['style_' + i for i in vec2.get_feature_names()])"
   ]
  },
  {
   "cell_type": "code",
   "execution_count": 15,
   "metadata": {},
   "outputs": [
    {
     "data": {
      "text/html": [
       "<div>\n",
       "<style scoped>\n",
       "    .dataframe tbody tr th:only-of-type {\n",
       "        vertical-align: middle;\n",
       "    }\n",
       "\n",
       "    .dataframe tbody tr th {\n",
       "        vertical-align: top;\n",
       "    }\n",
       "\n",
       "    .dataframe thead th {\n",
       "        text-align: right;\n",
       "    }\n",
       "</style>\n",
       "<table border=\"1\" class=\"dataframe\">\n",
       "  <thead>\n",
       "    <tr style=\"text-align: right;\">\n",
       "      <th></th>\n",
       "      <th>abv</th>\n",
       "      <th>ibu</th>\n",
       "      <th>ounces</th>\n",
       "      <th>name_2006</th>\n",
       "      <th>name_2008</th>\n",
       "      <th>name_2009</th>\n",
       "      <th>name_2010</th>\n",
       "      <th>name_2011</th>\n",
       "      <th>name_2012</th>\n",
       "      <th>name_2013</th>\n",
       "      <th>...</th>\n",
       "      <th>style_sweet</th>\n",
       "      <th>style_vegetable</th>\n",
       "      <th>style_vienna</th>\n",
       "      <th>style_warmer</th>\n",
       "      <th>style_wee</th>\n",
       "      <th>style_weissbier</th>\n",
       "      <th>style_wheat</th>\n",
       "      <th>style_white</th>\n",
       "      <th>style_winter</th>\n",
       "      <th>style_witbier</th>\n",
       "    </tr>\n",
       "  </thead>\n",
       "  <tbody>\n",
       "    <tr>\n",
       "      <th>0</th>\n",
       "      <td>0.065</td>\n",
       "      <td>65.0</td>\n",
       "      <td>12.0</td>\n",
       "      <td>0</td>\n",
       "      <td>0</td>\n",
       "      <td>0</td>\n",
       "      <td>0</td>\n",
       "      <td>0</td>\n",
       "      <td>0</td>\n",
       "      <td>0</td>\n",
       "      <td>...</td>\n",
       "      <td>0</td>\n",
       "      <td>0</td>\n",
       "      <td>0</td>\n",
       "      <td>0</td>\n",
       "      <td>0</td>\n",
       "      <td>0</td>\n",
       "      <td>0</td>\n",
       "      <td>0</td>\n",
       "      <td>0</td>\n",
       "      <td>0</td>\n",
       "    </tr>\n",
       "    <tr>\n",
       "      <th>1</th>\n",
       "      <td>0.087</td>\n",
       "      <td>85.0</td>\n",
       "      <td>12.0</td>\n",
       "      <td>0</td>\n",
       "      <td>0</td>\n",
       "      <td>1</td>\n",
       "      <td>0</td>\n",
       "      <td>0</td>\n",
       "      <td>0</td>\n",
       "      <td>0</td>\n",
       "      <td>...</td>\n",
       "      <td>0</td>\n",
       "      <td>0</td>\n",
       "      <td>0</td>\n",
       "      <td>0</td>\n",
       "      <td>0</td>\n",
       "      <td>0</td>\n",
       "      <td>0</td>\n",
       "      <td>0</td>\n",
       "      <td>0</td>\n",
       "      <td>0</td>\n",
       "    </tr>\n",
       "    <tr>\n",
       "      <th>2</th>\n",
       "      <td>0.080</td>\n",
       "      <td>35.0</td>\n",
       "      <td>12.0</td>\n",
       "      <td>0</td>\n",
       "      <td>0</td>\n",
       "      <td>0</td>\n",
       "      <td>0</td>\n",
       "      <td>0</td>\n",
       "      <td>0</td>\n",
       "      <td>0</td>\n",
       "      <td>...</td>\n",
       "      <td>0</td>\n",
       "      <td>0</td>\n",
       "      <td>0</td>\n",
       "      <td>0</td>\n",
       "      <td>0</td>\n",
       "      <td>0</td>\n",
       "      <td>0</td>\n",
       "      <td>0</td>\n",
       "      <td>0</td>\n",
       "      <td>0</td>\n",
       "    </tr>\n",
       "    <tr>\n",
       "      <th>3</th>\n",
       "      <td>0.099</td>\n",
       "      <td>100.0</td>\n",
       "      <td>12.0</td>\n",
       "      <td>0</td>\n",
       "      <td>0</td>\n",
       "      <td>0</td>\n",
       "      <td>0</td>\n",
       "      <td>0</td>\n",
       "      <td>0</td>\n",
       "      <td>0</td>\n",
       "      <td>...</td>\n",
       "      <td>0</td>\n",
       "      <td>0</td>\n",
       "      <td>0</td>\n",
       "      <td>0</td>\n",
       "      <td>0</td>\n",
       "      <td>0</td>\n",
       "      <td>0</td>\n",
       "      <td>0</td>\n",
       "      <td>0</td>\n",
       "      <td>0</td>\n",
       "    </tr>\n",
       "    <tr>\n",
       "      <th>4</th>\n",
       "      <td>0.053</td>\n",
       "      <td>35.0</td>\n",
       "      <td>12.0</td>\n",
       "      <td>0</td>\n",
       "      <td>0</td>\n",
       "      <td>0</td>\n",
       "      <td>0</td>\n",
       "      <td>0</td>\n",
       "      <td>0</td>\n",
       "      <td>0</td>\n",
       "      <td>...</td>\n",
       "      <td>0</td>\n",
       "      <td>0</td>\n",
       "      <td>0</td>\n",
       "      <td>0</td>\n",
       "      <td>0</td>\n",
       "      <td>0</td>\n",
       "      <td>0</td>\n",
       "      <td>0</td>\n",
       "      <td>0</td>\n",
       "      <td>0</td>\n",
       "    </tr>\n",
       "  </tbody>\n",
       "</table>\n",
       "<p>5 rows × 197 columns</p>\n",
       "</div>"
      ],
      "text/plain": [
       "     abv    ibu  ounces  name_2006  name_2008  name_2009  name_2010  \\\n",
       "0  0.065   65.0    12.0          0          0          0          0   \n",
       "1  0.087   85.0    12.0          0          0          1          0   \n",
       "2  0.080   35.0    12.0          0          0          0          0   \n",
       "3  0.099  100.0    12.0          0          0          0          0   \n",
       "4  0.053   35.0    12.0          0          0          0          0   \n",
       "\n",
       "   name_2011  name_2012  name_2013  ...  style_sweet  style_vegetable  \\\n",
       "0          0          0          0  ...            0                0   \n",
       "1          0          0          0  ...            0                0   \n",
       "2          0          0          0  ...            0                0   \n",
       "3          0          0          0  ...            0                0   \n",
       "4          0          0          0  ...            0                0   \n",
       "\n",
       "   style_vienna  style_warmer  style_wee  style_weissbier  style_wheat  \\\n",
       "0             0             0          0                0            0   \n",
       "1             0             0          0                0            0   \n",
       "2             0             0          0                0            0   \n",
       "3             0             0          0                0            0   \n",
       "4             0             0          0                0            0   \n",
       "\n",
       "   style_white  style_winter  style_witbier  \n",
       "0            0             0              0  \n",
       "1            0             0              0  \n",
       "2            0             0              0  \n",
       "3            0             0              0  \n",
       "4            0             0              0  \n",
       "\n",
       "[5 rows x 197 columns]"
      ]
     },
     "execution_count": 15,
     "metadata": {},
     "output_type": "execute_result"
    }
   ],
   "source": [
    "df_final = df.drop(['name', 'style'], axis=1)\\\n",
    "             .join(df_name)\\\n",
    "             .join(df_style)\n",
    "\n",
    "df_final.head()"
   ]
  },
  {
   "cell_type": "markdown",
   "metadata": {},
   "source": [
    "## Create Training and Testing Sets"
   ]
  },
  {
   "cell_type": "code",
   "execution_count": 16,
   "metadata": {},
   "outputs": [],
   "source": [
    "# split into train and test sets\n",
    "X = df_final.drop(['ibu'], axis=1)\n",
    "y = df_final['ibu']\n",
    "\n",
    "X_train, X_test, y_train, y_test = train_test_split(X, y, test_size=0.25, random_state=0)"
   ]
  },
  {
   "cell_type": "markdown",
   "metadata": {},
   "source": [
    "## Build Model Without Tuning"
   ]
  },
  {
   "cell_type": "code",
   "execution_count": 17,
   "metadata": {},
   "outputs": [
    {
     "name": "stdout",
     "output_type": "stream",
     "text": [
      "R-squared - test set: 0.637\n"
     ]
    }
   ],
   "source": [
    "dt = DecisionTreeRegressor(random_state=3)\n",
    "dt.fit(X_train, y_train)\n",
    "print('R-squared - test set: %3.3f' % dt.score(X_test, y_test)) "
   ]
  },
  {
   "cell_type": "markdown",
   "metadata": {},
   "source": [
    "# Specific Hyperparameters\n",
    "## Decision Tree\n",
    "Below are some of the hyperparameters that can be adjusted for a decision tree model. For more hyperparameters, see the [documentation](https://scikit-learn.org/stable/modules/generated/sklearn.tree.DecisionTreeRegressor.html).\n",
    "+ `max_depth` : The maximum depth of the tree. If None, then nodes are expanded until all leaves are pure or until all leaves contain less than min_samples_split samples.\n",
    "+ `max_features` : The number of features to consider when looking for the best split:\n",
    "    + If int, then consider max_features features at each split.\n",
    "    + If float, then max_features is a fraction and int(max_features * n_features) features are considered at each split.\n",
    "    + If “auto”, then max_features=n_features.\n",
    "    + If “sqrt”, then max_features=sqrt(n_features).\n",
    "    + If “log2”, then max_features=log2(n_features).\n",
    "    + If None, then max_features=n_features.\n",
    "+ `min_samples_leaf` : The minimum number of samples required to be at a leaf node. A split point at any depth will only be considered if it leaves at least min_samples_leaf training samples in each of the left and right branches. This may have the effect of smoothing the model, especially in regression.\n",
    "    + If int, then consider min_samples_leaf as the minimum number.\n",
    "    + If float, then min_samples_leaf is a fraction and ceil(min_samples_leaf * n_samples) are the minimum number of samples for each node.\n",
    "+ `min_impurity_decrease` : A node will be split if this split induces a decrease of the impurity greater than or equal to this value.\n",
    "\n",
    "    The weighted impurity decrease equation is the following:\n",
    "\n",
    "    __N_t / N * (impurity - N_t_R / N_t * right_impurity - N_t_L / N_t * left_impurity)__\n",
    "    \n",
    "    where N is the total number of samples, N_t is the number of samples at the current node, N_t_L is the number of samples in the left child, and N_t_R is the number of samples in the right child.\n",
    "\n",
    "    N, N_t, N_t_R and N_t_L all refer to the weighted sum, if sample_weight is passed."
   ]
  },
  {
   "cell_type": "markdown",
   "metadata": {},
   "source": [
    "# Tuning Methods\n",
    "1. [Grid Search](#grid)\n",
    "1. [Random Search](#random)\n",
    "1. [Bayesian Search](#bayes)"
   ]
  },
  {
   "cell_type": "markdown",
   "metadata": {},
   "source": [
    "<a id=\"grid\"></a>\n",
    "## Grid Search\n",
    "The first method of hyperparameter tuning that we will cover is grid search. The advantages of grid search is that, compared to manually searching the hyperparamter space, grid search allows you to search more space with less code\n",
    "and it's more practical and exhaustive.\n",
    "\n",
    "We will use sci-kit learn's implementation of grid search, [GridSearchCV](https://scikit-learn.org/stable/modules/generated/sklearn.model_selection.GridSearchCV.html). We pass the GridSearchCV object a model and the values of the hyperparamter space for it to try and it builds a new model for each hyperparamter combination. \n",
    "\n",
    "It's important when tuning hyperparamters to still use a hold out (i.e. test) set so you can understand how well your model generalizes to data it did not see during training.\n",
    "\n",
    "<img src=\"images/grid_search.gif\" width=500>\n",
    "\n",
    "Souce: [SigOpt](https://sigopt.com/blog/common-problems-in-hyperparameter-optimization)"
   ]
  },
  {
   "cell_type": "code",
   "execution_count": 18,
   "metadata": {},
   "outputs": [],
   "source": [
    "from sklearn.model_selection import GridSearchCV"
   ]
  },
  {
   "cell_type": "code",
   "execution_count": 19,
   "metadata": {},
   "outputs": [],
   "source": [
    "param_grid = {'max_features': ['auto', 'sqrt', 'log2'],\n",
    "              'max_depth': list(range(2, 15)),\n",
    "              'min_samples_leaf': list(range(1,15,2)),\n",
    "              'min_impurity_decrease': [0.00005,0.0001,0.0005,0.001,0.005,0.01,0.1]\n",
    "              } "
   ]
  },
  {
   "cell_type": "code",
   "execution_count": 20,
   "metadata": {},
   "outputs": [
    {
     "name": "stdout",
     "output_type": "stream",
     "text": [
      "Fitting 10 folds for each of 1911 candidates, totalling 19110 fits\n"
     ]
    },
    {
     "name": "stderr",
     "output_type": "stream",
     "text": [
      "[Parallel(n_jobs=1)]: Using backend SequentialBackend with 1 concurrent workers.\n"
     ]
    },
    {
     "name": "stdout",
     "output_type": "stream",
     "text": [
      "Best parameters: {'max_depth': 7, 'max_features': 'auto', 'min_impurity_decrease': 0.1, 'min_samples_leaf': 3}\n",
      "Best cross-validation R-squared: 0.731\n",
      "R-squared - test set: 0.737\n"
     ]
    },
    {
     "name": "stderr",
     "output_type": "stream",
     "text": [
      "[Parallel(n_jobs=1)]: Done 19110 out of 19110 | elapsed:  1.6min finished\n"
     ]
    }
   ],
   "source": [
    "grid = GridSearchCV(dt, param_grid, cv=10, verbose=1)\n",
    "grid.fit(X_train, y_train)\n",
    "\n",
    "print('Best parameters:', grid.best_params_)\n",
    "print('Best cross-validation R-squared: %3.3f' % grid.best_score_)\n",
    "print('R-squared - test set: %3.3f' % grid.score(X_test, y_test)) "
   ]
  },
  {
   "cell_type": "markdown",
   "metadata": {},
   "source": [
    "<a id=\"random\"></a>\n",
    "## Random Search\n",
    "When using grid search above, there was a very large hyperparameter space and it can be computationally expensive to try every single combination. \n",
    "\n",
    "With random search, we only try a subset of the combinations to avoid some unnecessary computation. Since we're only trying a subset, it's possible that the optimal hyperparameter combination will not be chosen and as a result, we could end up with slightly worse performance. \n",
    "\n",
    "\n",
    "We will use sci-kit learn's implementation of random search, [RandomizedSearchCV](https://scikit-learn.org/stable/modules/generated/sklearn.model_selection.RandomizedSearchCV.html). RandomizedSearchCV's `n_iter` parameter determines how many hyperparamter combinations we try. With the `n_iter` parameter, we can drastically reduce how much of the hyperparameter space that we explore. \n",
    "\n",
    "With RandomizedSearchCV, we can pass hyperparameters in 2 different ways:\n",
    "1. With a dictionary of values just as we did above (for GridSearchCV)\n",
    "1. With a statistical distribution. When we pass a distribution, then for each iteration the algorithm will randomly sample a value from that distrubition. Using distrubitions introduces more variation and allows for the possibility of finding an optimal hyperparameter in an area that you would not have chosen to guess.\n",
    "\n",
    "<img src=\"images/random_search.gif\" width=500>\n",
    "\n",
    "Source: [SigOpt](https://sigopt.com/blog/common-problems-in-hyperparameter-optimization)"
   ]
  },
  {
   "cell_type": "markdown",
   "metadata": {},
   "source": [
    "First, let's use the same predetermined values that we used for GridSearchCV."
   ]
  },
  {
   "cell_type": "code",
   "execution_count": 21,
   "metadata": {},
   "outputs": [],
   "source": [
    "from sklearn.model_selection import RandomizedSearchCV"
   ]
  },
  {
   "cell_type": "code",
   "execution_count": 22,
   "metadata": {},
   "outputs": [
    {
     "name": "stdout",
     "output_type": "stream",
     "text": [
      "Fitting 10 folds for each of 40 candidates, totalling 400 fits\n"
     ]
    },
    {
     "name": "stderr",
     "output_type": "stream",
     "text": [
      "[Parallel(n_jobs=1)]: Using backend SequentialBackend with 1 concurrent workers.\n"
     ]
    },
    {
     "name": "stdout",
     "output_type": "stream",
     "text": [
      "Best parameters: {'min_samples_leaf': 3, 'min_impurity_decrease': 0.0005, 'max_features': 'auto', 'max_depth': 8}\n",
      "Best cross-validation R-squared: 0.727\n",
      "R-squared - test set: 0.736\n"
     ]
    },
    {
     "name": "stderr",
     "output_type": "stream",
     "text": [
      "[Parallel(n_jobs=1)]: Done 400 out of 400 | elapsed:    2.0s finished\n"
     ]
    }
   ],
   "source": [
    "randomsearch = RandomizedSearchCV(dt, \n",
    "                                  param_grid, \n",
    "                                  cv=10, \n",
    "                                  n_iter=40, \n",
    "                                  random_state=3,\n",
    "                                  verbose=1)\n",
    "randomsearch.fit(X_train, y_train)\n",
    "\n",
    "print('Best parameters:', randomsearch.best_params_)\n",
    "print('Best cross-validation R-squared: %3.3f' % randomsearch.best_score_)\n",
    "print('R-squared - test set: %3.3f' % randomsearch.score(X_test, y_test)) "
   ]
  },
  {
   "cell_type": "markdown",
   "metadata": {},
   "source": [
    "Now let's try RandomizedSearchCV using distributions instead of fixed values."
   ]
  },
  {
   "cell_type": "code",
   "execution_count": 23,
   "metadata": {},
   "outputs": [],
   "source": [
    "param_grid_dist = {'max_features': ['auto', 'sqrt', 'log2'],\n",
    "                   'max_depth': stats.randint(1,15),\n",
    "                   'min_samples_leaf': stats.randint(1,15),\n",
    "                   'min_impurity_decrease': stats.uniform(1e-4, 1e-1)\n",
    "                   } "
   ]
  },
  {
   "cell_type": "code",
   "execution_count": 24,
   "metadata": {},
   "outputs": [
    {
     "name": "stdout",
     "output_type": "stream",
     "text": [
      "Best parameters: {'max_depth': 9, 'max_features': 'auto', 'min_impurity_decrease': 0.07625399142613266, 'min_samples_leaf': 4}\n",
      "Best cross-validation R-squared: 0.730\n",
      "R-squared - test set: 0.738\n"
     ]
    }
   ],
   "source": [
    "randomsearch2 = RandomizedSearchCV(dt, \n",
    "                                   param_grid_dist, \n",
    "                                   cv=10, \n",
    "                                   n_iter=40, \n",
    "                                   random_state=12)\n",
    "randomsearch2.fit(X_train, y_train)\n",
    "\n",
    "print('Best parameters:', randomsearch2.best_params_)\n",
    "print('Best cross-validation R-squared: %3.3f' % randomsearch2.best_score_)\n",
    "print('R-squared - test set: %3.3f' % randomsearch2.score(X_test, y_test))"
   ]
  },
  {
   "cell_type": "code",
   "execution_count": 25,
   "metadata": {},
   "outputs": [
    {
     "data": {
      "text/plain": [
       "[{'max_depth': 12,\n",
       "  'max_features': 'log2',\n",
       "  'min_impurity_decrease': 0.08743871524282919,\n",
       "  'min_samples_leaf': 3},\n",
       " {'max_depth': 4,\n",
       "  'max_features': 'auto',\n",
       "  'min_impurity_decrease': 0.035147827600499254,\n",
       "  'min_samples_leaf': 2},\n",
       " {'max_depth': 5,\n",
       "  'max_features': 'sqrt',\n",
       "  'min_impurity_decrease': 0.003442142762634459,\n",
       "  'min_samples_leaf': 3},\n",
       " {'max_depth': 12,\n",
       "  'max_features': 'log2',\n",
       "  'min_impurity_decrease': 0.037383446106186775,\n",
       "  'min_samples_leaf': 6},\n",
       " {'max_depth': 9,\n",
       "  'max_features': 'auto',\n",
       "  'min_impurity_decrease': 0.09452251360530423,\n",
       "  'min_samples_leaf': 10},\n",
       " {'max_depth': 4,\n",
       "  'max_features': 'log2',\n",
       "  'min_impurity_decrease': 0.019087634421308352,\n",
       "  'min_samples_leaf': 2},\n",
       " {'max_depth': 8,\n",
       "  'max_features': 'auto',\n",
       "  'min_impurity_decrease': 0.07691341540644224,\n",
       "  'min_samples_leaf': 3},\n",
       " {'max_depth': 1,\n",
       "  'max_features': 'auto',\n",
       "  'min_impurity_decrease': 0.056414113751657155,\n",
       "  'min_samples_leaf': 14},\n",
       " {'max_depth': 10,\n",
       "  'max_features': 'sqrt',\n",
       "  'min_impurity_decrease': 0.011727301740168982,\n",
       "  'min_samples_leaf': 1},\n",
       " {'max_depth': 12,\n",
       "  'max_features': 'sqrt',\n",
       "  'min_impurity_decrease': 0.020366072315103036,\n",
       "  'min_samples_leaf': 10},\n",
       " {'max_depth': 7,\n",
       "  'max_features': 'sqrt',\n",
       "  'min_impurity_decrease': 0.0053951527406441825,\n",
       "  'min_samples_leaf': 1},\n",
       " {'max_depth': 5,\n",
       "  'max_features': 'sqrt',\n",
       "  'min_impurity_decrease': 0.03356475291060558,\n",
       "  'min_samples_leaf': 6},\n",
       " {'max_depth': 12,\n",
       "  'max_features': 'sqrt',\n",
       "  'min_impurity_decrease': 0.09875611489885563,\n",
       "  'min_samples_leaf': 6},\n",
       " {'max_depth': 12,\n",
       "  'max_features': 'sqrt',\n",
       "  'min_impurity_decrease': 0.08260092532147735,\n",
       "  'min_samples_leaf': 13},\n",
       " {'max_depth': 1,\n",
       "  'max_features': 'log2',\n",
       "  'min_impurity_decrease': 0.0609258056645331,\n",
       "  'min_samples_leaf': 14},\n",
       " {'max_depth': 4,\n",
       "  'max_features': 'log2',\n",
       "  'min_impurity_decrease': 0.01785641759378893,\n",
       "  'min_samples_leaf': 11},\n",
       " {'max_depth': 12,\n",
       "  'max_features': 'auto',\n",
       "  'min_impurity_decrease': 0.07385632183555696,\n",
       "  'min_samples_leaf': 7},\n",
       " {'max_depth': 8,\n",
       "  'max_features': 'auto',\n",
       "  'min_impurity_decrease': 0.037472314882391534,\n",
       "  'min_samples_leaf': 2},\n",
       " {'max_depth': 5,\n",
       "  'max_features': 'sqrt',\n",
       "  'min_impurity_decrease': 0.015332136163318655,\n",
       "  'min_samples_leaf': 4},\n",
       " {'max_depth': 6,\n",
       "  'max_features': 'auto',\n",
       "  'min_impurity_decrease': 0.07268614974313065,\n",
       "  'min_samples_leaf': 10},\n",
       " {'max_depth': 14,\n",
       "  'max_features': 'log2',\n",
       "  'min_impurity_decrease': 0.022185252082888553,\n",
       "  'min_samples_leaf': 7},\n",
       " {'max_depth': 3,\n",
       "  'max_features': 'log2',\n",
       "  'min_impurity_decrease': 0.041122121197148226,\n",
       "  'min_samples_leaf': 6},\n",
       " {'max_depth': 11,\n",
       "  'max_features': 'auto',\n",
       "  'min_impurity_decrease': 0.08045166506773764,\n",
       "  'min_samples_leaf': 5},\n",
       " {'max_depth': 1,\n",
       "  'max_features': 'sqrt',\n",
       "  'min_impurity_decrease': 0.057439315483523386,\n",
       "  'min_samples_leaf': 7},\n",
       " {'max_depth': 9,\n",
       "  'max_features': 'log2',\n",
       "  'min_impurity_decrease': 0.04624402600659552,\n",
       "  'min_samples_leaf': 5},\n",
       " {'max_depth': 10,\n",
       "  'max_features': 'auto',\n",
       "  'min_impurity_decrease': 0.06467394108426244,\n",
       "  'min_samples_leaf': 11},\n",
       " {'max_depth': 10,\n",
       "  'max_features': 'auto',\n",
       "  'min_impurity_decrease': 0.0889447527229693,\n",
       "  'min_samples_leaf': 1},\n",
       " {'max_depth': 9,\n",
       "  'max_features': 'auto',\n",
       "  'min_impurity_decrease': 0.07625399142613266,\n",
       "  'min_samples_leaf': 4},\n",
       " {'max_depth': 8,\n",
       "  'max_features': 'log2',\n",
       "  'min_impurity_decrease': 0.09554911136124837,\n",
       "  'min_samples_leaf': 5},\n",
       " {'max_depth': 11,\n",
       "  'max_features': 'auto',\n",
       "  'min_impurity_decrease': 0.056373715899614776,\n",
       "  'min_samples_leaf': 11},\n",
       " {'max_depth': 9,\n",
       "  'max_features': 'log2',\n",
       "  'min_impurity_decrease': 0.06709576324357551,\n",
       "  'min_samples_leaf': 5},\n",
       " {'max_depth': 10,\n",
       "  'max_features': 'auto',\n",
       "  'min_impurity_decrease': 0.01303922910055243,\n",
       "  'min_samples_leaf': 5},\n",
       " {'max_depth': 2,\n",
       "  'max_features': 'log2',\n",
       "  'min_impurity_decrease': 0.09584174237390572,\n",
       "  'min_samples_leaf': 12},\n",
       " {'max_depth': 4,\n",
       "  'max_features': 'log2',\n",
       "  'min_impurity_decrease': 0.09037070317953122,\n",
       "  'min_samples_leaf': 13},\n",
       " {'max_depth': 14,\n",
       "  'max_features': 'auto',\n",
       "  'min_impurity_decrease': 0.00042879687523396094,\n",
       "  'min_samples_leaf': 5},\n",
       " {'max_depth': 7,\n",
       "  'max_features': 'sqrt',\n",
       "  'min_impurity_decrease': 0.0006909355868484291,\n",
       "  'min_samples_leaf': 11},\n",
       " {'max_depth': 11,\n",
       "  'max_features': 'auto',\n",
       "  'min_impurity_decrease': 0.08762463057319961,\n",
       "  'min_samples_leaf': 3},\n",
       " {'max_depth': 6,\n",
       "  'max_features': 'log2',\n",
       "  'min_impurity_decrease': 0.06006191883973378,\n",
       "  'min_samples_leaf': 2},\n",
       " {'max_depth': 5,\n",
       "  'max_features': 'log2',\n",
       "  'min_impurity_decrease': 0.0874712627595173,\n",
       "  'min_samples_leaf': 10},\n",
       " {'max_depth': 2,\n",
       "  'max_features': 'log2',\n",
       "  'min_impurity_decrease': 0.04103321428493235,\n",
       "  'min_samples_leaf': 1}]"
      ]
     },
     "execution_count": 25,
     "metadata": {},
     "output_type": "execute_result"
    }
   ],
   "source": [
    "randomsearch2.cv_results_['params']"
   ]
  },
  {
   "cell_type": "markdown",
   "metadata": {},
   "source": [
    "As you can see, RandomizedSearchCV chooses values from the distrubutions we provided. This allows us to search hyperparameter values that we might not have thought to use. This can lead to either better or worse results than GridSearchCV, depending on randomness."
   ]
  },
  {
   "cell_type": "markdown",
   "metadata": {},
   "source": [
    "<a id=\"bayes\"></a>\n",
    "## Bayesian Search\n",
    "Instead of randomly searching the hyperparameter space, we can search it more efficiently. With the previous 2 methods, we experimented with different hyperparameter values and these experiments were independent of each other. Since they were independent, they were not able to use the information from one experiment to improve the next experiment.\n",
    "\n",
    "Bayesian search addresses this issue. With bayesian search, experiments are run sequentially and information from each of the previous runs are used to determine the next set of hyperparameters to try. Bayesian search uses concepts of exploration and exploitation. First, it explores the hyperparameter space by choosing some initial hyperparameter values. Then once it has some understanding of the hyperparameter space, it tries to \"exploit\" it by focusing on areas of the hyperparameter space that give the best model performance and trying slight variations of values that it already knows are good.\n",
    "\n",
    "\n",
    "\n",
    "<img src=\"images/bayesian_search.gif\" width=500>\n",
    "\n",
    "Souce: [SigOpt](https://sigopt.com/blog/common-problems-in-hyperparameter-optimization)\n",
    "\n",
    "Additional Resources:\n",
    "+ https://github.com/fmfn/BayesianOptimization\n",
    "+ https://github.com/hyperopt/hyperopt\n",
    "+ https://scikit-optimize.github.io/stable/modules/generated/skopt.BayesSearchCV.html#skopt.BayesSearchCV"
   ]
  },
  {
   "cell_type": "code",
   "execution_count": 26,
   "metadata": {},
   "outputs": [],
   "source": [
    "from skopt import BayesSearchCV"
   ]
  },
  {
   "cell_type": "code",
   "execution_count": 27,
   "metadata": {},
   "outputs": [],
   "source": [
    "grid = {\n",
    "        'max_features': ['auto', 'sqrt', 'log2'],\n",
    "        'max_depth': (2, 15),\n",
    "        'min_samples_leaf': (2, 15),\n",
    "        'min_impurity_decrease': (0.0, 0.5, 'uniform'),\n",
    "        }"
   ]
  },
  {
   "cell_type": "code",
   "execution_count": null,
   "metadata": {},
   "outputs": [],
   "source": [
    "bayes = BayesSearchCV(dt,\n",
    "                      grid,\n",
    "                      n_iter=40,\n",
    "                      cv=10\n",
    "                     )\n",
    "\n",
    "bayes.fit(X_train, y_train)\n",
    "\n",
    "print('The best parameters are:', bayes.best_params_)\n",
    "print('The best model cross-validation R-Squared is %3.3f' % bayes.best_score_)\n",
    "print('R-squared - test set: %3.3f' % bayes.score(X_test, y_test)) "
   ]
  },
  {
   "cell_type": "markdown",
   "metadata": {},
   "source": [
    "# Hyperparameter Tuning on Random Forest (Optional)\n",
    "Now that we have shown how to perform hyperparameter tuning on a decision tree model, try to tune a random forest model."
   ]
  },
  {
   "cell_type": "code",
   "execution_count": null,
   "metadata": {},
   "outputs": [],
   "source": [
    "from sklearn.ensemble import RandomForestRegressor"
   ]
  },
  {
   "cell_type": "code",
   "execution_count": null,
   "metadata": {},
   "outputs": [],
   "source": [
    "param_grid_rf = {'max_features': ['auto', 'sqrt', 'log2'],\n",
    "                 'max_depth': [],   # set the max depth values to test\n",
    "                 'n_estimators': [] # set the n_estimators values to test\n",
    "                 }"
   ]
  },
  {
   "cell_type": "code",
   "execution_count": null,
   "metadata": {},
   "outputs": [],
   "source": [
    "grid = GridSearchCV(RandomForestRegressor(), param_grid_rf)"
   ]
  },
  {
   "cell_type": "code",
   "execution_count": null,
   "metadata": {},
   "outputs": [],
   "source": [
    "param_grid_dist = {'max_features': ['auto', 'sqrt', 'log2'],\n",
    "                   'max_depth': , # set a distribution here\n",
    "                   'n_estimators': # set a distribution here\n",
    "                   } "
   ]
  },
  {
   "cell_type": "code",
   "execution_count": null,
   "metadata": {},
   "outputs": [],
   "source": [
    "randomsearch3 = RandomizedSearchCV(RandomForestRegressor(), \n",
    "                                   param_grid_dist, \n",
    "                                   cv=10, \n",
    "                                   n_iter=40, \n",
    "                                   random_state=12)"
   ]
  },
  {
   "cell_type": "code",
   "execution_count": null,
   "metadata": {},
   "outputs": [],
   "source": [
    "bayes_grid = {\n",
    "              'max_features': ['auto', 'sqrt', 'log2'],\n",
    "              'max_depth': (), # set min and max values here\n",
    "              'n_estimators'(): # set min and max values here\n",
    "              }"
   ]
  },
  {
   "cell_type": "code",
   "execution_count": null,
   "metadata": {},
   "outputs": [],
   "source": [
    "bayes = BayesSearchCV(RandomForestRegressor(),\n",
    "                      bayes_grid,\n",
    "                      n_iter=40,\n",
    "                      cv=10\n",
    "                     )"
   ]
  },
  {
   "cell_type": "markdown",
   "metadata": {},
   "source": [
    "# Appendix\n",
    "Many cloud platforms can perform automated hyperparameter tuning for you. By using the cloud for tuning, you can parallelize (train multiple models at once) and use more powerful machines.\n",
    "+ AWS SageMaker\n",
    "    + https://docs.aws.amazon.com/sagemaker/latest/dg/automatic-model-tuning.html\n",
    "    + https://sagemaker.readthedocs.io/en/stable/tuner.html\n",
    "+ Azure\n",
    "    + https://docs.microsoft.com/en-us/azure/machine-learning/how-to-tune-hyperparameters\n",
    "+ GCP\n",
    "    + https://cloud.google.com/ai-platform/training/docs/using-hyperparameter-tuning"
   ]
  },
  {
   "cell_type": "code",
   "execution_count": null,
   "metadata": {},
   "outputs": [],
   "source": []
  }
 ],
 "metadata": {
  "kernelspec": {
   "display_name": "Python 3",
   "language": "python",
   "name": "python3"
  },
  "language_info": {
   "codemirror_mode": {
    "name": "ipython",
    "version": 3
   },
   "file_extension": ".py",
   "mimetype": "text/x-python",
   "name": "python",
   "nbconvert_exporter": "python",
   "pygments_lexer": "ipython3",
   "version": "3.7.6"
  },
  "toc": {
   "base_numbering": 1,
   "nav_menu": {},
   "number_sections": true,
   "sideBar": true,
   "skip_h1_title": false,
   "title_cell": "Table of Contents",
   "title_sidebar": "Contents",
   "toc_cell": false,
   "toc_position": {},
   "toc_section_display": true,
   "toc_window_display": false
  }
 },
 "nbformat": 4,
 "nbformat_minor": 2
}
