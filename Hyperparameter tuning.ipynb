{
 "cells": [
  {
   "cell_type": "markdown",
   "metadata": {},
   "source": [
    "# Overview\n",
    "1. Setup\n",
    "2. Hyperparameter (HP) Definition\n",
    "3. Description of HPs for a few common models (i.e. what the HPs do, how they affect the model, and tradeoffs) \n",
    "4. Build simple random forest model with no tuning\n",
    "5. Tuning Methods\n",
    "\n",
    "Have attendees build a new model from scratch and incorporate HP tuning"
   ]
  },
  {
   "cell_type": "markdown",
   "metadata": {},
   "source": [
    "# Setup\n",
    "Download data [here](https://www.kaggle.com/nickhould/craft-cans)\n",
    "\n",
    "Perform the following steps using a terminal:\n",
    "\n",
    "- Clone the repository: `git clone https://github.com/benattix/ml_tutorials.git`\n",
    "\n",
    "- Change directory: `cd ml_tutorials`\n",
    "\n",
    "- Create new conda environment with .yml file: `conda env create -f environment.yml`\n",
    "\n",
    "- Activate new environment `source activate hptuning`\n",
    "\n",
    "- Launch a Jupyter notebook: `jupyter notebook`"
   ]
  },
  {
   "cell_type": "markdown",
   "metadata": {},
   "source": [
    "# Definition\n",
    "A hyperparameter is a parameter whose value is set before the learning process begins."
   ]
  },
  {
   "cell_type": "markdown",
   "metadata": {},
   "source": [
    "## Example"
   ]
  },
  {
   "cell_type": "code",
   "execution_count": null,
   "metadata": {},
   "outputs": [],
   "source": [
    "import numpy as np\n",
    "import pandas as pd\n",
    "import matplotlib.pyplot as plt"
   ]
  },
  {
   "cell_type": "code",
   "execution_count": null,
   "metadata": {},
   "outputs": [],
   "source": [
    "from sklearn.feature_extraction.text import CountVectorizer\n",
    "from sklearn.model_selection import train_test_split, cross_val_score\n",
    "\n",
    "from sklearn.ensemble import RandomForestClassifier"
   ]
  },
  {
   "cell_type": "code",
   "execution_count": null,
   "metadata": {},
   "outputs": [],
   "source": [
    "import lightgbm as lgb"
   ]
  },
  {
   "cell_type": "code",
   "execution_count": null,
   "metadata": {},
   "outputs": [],
   "source": [
    "df = pd.read_csv('data/beers.csv', index_col=0)\n",
    "print(df.shape)\n",
    "df.head()"
   ]
  },
  {
   "cell_type": "code",
   "execution_count": null,
   "metadata": {},
   "outputs": [],
   "source": [
    "# drop columns with null 'ibu'\n",
    "df = df.dropna(subset=['ibu'], axis=0)\n",
    "print(df.shape)"
   ]
  },
  {
   "cell_type": "code",
   "execution_count": null,
   "metadata": {},
   "outputs": [],
   "source": [
    "vectorizer = CountVectorizer()\n",
    "X = vectorizer.fit_transform(df)\n",
    "X\n",
    "# X.head()"
   ]
  },
  {
   "cell_type": "code",
   "execution_count": null,
   "metadata": {},
   "outputs": [],
   "source": [
    "# split into \n",
    "# X = df.drop('ibu', axis=1)\n",
    "X = df.drop(['ibu', 'name', 'style'], axis=1)\n",
    "Y = df['ibu']"
   ]
  },
  {
   "cell_type": "code",
   "execution_count": null,
   "metadata": {},
   "outputs": [],
   "source": [
    "rf = RandomForestClassifier()\n",
    "rf.fit(X, Y)"
   ]
  },
  {
   "cell_type": "markdown",
   "metadata": {},
   "source": [
    "# Tuning Methods\n",
    "1. Manual Search\n",
    "2. Grid Search\n",
    "3. Random Search\n",
    "4. Bayesian Search\n",
    "\n",
    "(describe each method and have hands-on examples of how to use them. Explain pros and cons of each):"
   ]
  },
  {
   "cell_type": "markdown",
   "metadata": {},
   "source": [
    "## Manual Search"
   ]
  },
  {
   "cell_type": "code",
   "execution_count": null,
   "metadata": {},
   "outputs": [],
   "source": []
  },
  {
   "cell_type": "markdown",
   "metadata": {},
   "source": [
    "## Grid Search"
   ]
  },
  {
   "cell_type": "code",
   "execution_count": null,
   "metadata": {},
   "outputs": [],
   "source": [
    "from sklearn.model_selection import GridSearchCV"
   ]
  },
  {
   "cell_type": "code",
   "execution_count": null,
   "metadata": {},
   "outputs": [],
   "source": [
    "### Random Forest\n",
    "parameters = {'criterion': ['entropy', 'gini'], \n",
    "              'max_features': ['auto', 'sqrt', 'log2'],\n",
    "              'n_estimators': [i for i in range(10,30)]}\n",
    "\n",
    "rf = GridSearchCV(RandomForestClassifier(), parameters, cv=5, scoring='f1_weighted')\n",
    "%time rf.fit(X, Y)\n",
    "\n",
    "print('The best parameters are critereon = %s, max_features = %s, n_estimators = %d' \\\n",
    "      % (rf.best_params_['criterion'], rf.best_params_['max_features'], rf.best_params_['n_estimators']))\n",
    "print('The best model score is %3.3f' % rf.best_score_)"
   ]
  },
  {
   "cell_type": "code",
   "execution_count": null,
   "metadata": {},
   "outputs": [],
   "source": [
    "### Light GBM\n",
    "parameters = {'criterion': ['entropy', 'gini'], \n",
    "              'max_features': ['auto', 'sqrt', 'log2'],\n",
    "              'n_estimators': [i for i in range(10,30)]}\n",
    "\n",
    "rf = GridSearchCV(RandomForestClassifier(), parameters, cv=5, scoring='f1_weighted')\n",
    "%time rf.fit(X, Y)\n",
    "\n",
    "print('The best parameters are critereon = %s, max_features = %s, n_estimators = %d' \\\n",
    "      % (rf.best_params_['criterion'], rf.best_params_['max_features'], rf.best_params_['n_estimators']))\n",
    "print('The best model score is %3.3f' % rf.best_score_)"
   ]
  },
  {
   "cell_type": "markdown",
   "metadata": {},
   "source": [
    "## Random Search"
   ]
  },
  {
   "cell_type": "code",
   "execution_count": null,
   "metadata": {},
   "outputs": [],
   "source": [
    "from sklearn.model_selection import RandomizedSearchCV"
   ]
  },
  {
   "cell_type": "markdown",
   "metadata": {},
   "source": [
    "## Bayesian Search\n",
    "(https://github.com/fmfn/BayesianOptimization)"
   ]
  },
  {
   "cell_type": "code",
   "execution_count": null,
   "metadata": {},
   "outputs": [],
   "source": [
    "from bayes_opt import BayesianOptimization\n",
    "\n",
    "optimizer = BayesianOptimization(\n",
    "    f=black_box_function,\n",
    "    pbounds=pbounds,\n",
    "    random_state=1,\n",
    ")"
   ]
  },
  {
   "cell_type": "code",
   "execution_count": null,
   "metadata": {},
   "outputs": [],
   "source": [
    "optimizer.maximize(\n",
    "    init_points=2,\n",
    "    n_iter=3,\n",
    ")"
   ]
  },
  {
   "cell_type": "code",
   "execution_count": null,
   "metadata": {},
   "outputs": [],
   "source": []
  }
 ],
 "metadata": {
  "kernelspec": {
   "display_name": "Python 3",
   "language": "python",
   "name": "python3"
  },
  "language_info": {
   "codemirror_mode": {
    "name": "ipython",
    "version": 3
   },
   "file_extension": ".py",
   "mimetype": "text/x-python",
   "name": "python",
   "nbconvert_exporter": "python",
   "pygments_lexer": "ipython3",
   "version": "3.7.6"
  },
  "toc": {
   "base_numbering": 1,
   "nav_menu": {},
   "number_sections": true,
   "sideBar": true,
   "skip_h1_title": false,
   "title_cell": "Table of Contents",
   "title_sidebar": "Contents",
   "toc_cell": false,
   "toc_position": {},
   "toc_section_display": true,
   "toc_window_display": false
  }
 },
 "nbformat": 4,
 "nbformat_minor": 2
}
